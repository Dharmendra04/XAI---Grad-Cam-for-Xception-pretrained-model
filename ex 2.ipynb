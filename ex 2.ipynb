{
 "cells": [
  {
   "cell_type": "code",
   "execution_count": 49,
   "id": "2a2e3aa3",
   "metadata": {},
   "outputs": [],
   "source": [
    "import numpy as np"
   ]
  },
  {
   "cell_type": "code",
   "execution_count": 50,
   "id": "7700c48d",
   "metadata": {},
   "outputs": [],
   "source": [
    "import matplotlib.pyplot as plt"
   ]
  },
  {
   "cell_type": "code",
   "execution_count": 51,
   "id": "af3e5145",
   "metadata": {},
   "outputs": [],
   "source": [
    "from sklearn.datasets import make_blobs"
   ]
  },
  {
   "cell_type": "code",
   "execution_count": 52,
   "id": "6cb7ce3f",
   "metadata": {},
   "outputs": [],
   "source": [
    "X, y = make_blobs(n_samples=1500, centers=[(-6,2), (3,-4), (-5,10)], n_features=2, random_state=800)"
   ]
  },
  {
   "cell_type": "code",
   "execution_count": 53,
   "id": "78f7dcc3",
   "metadata": {},
   "outputs": [
    {
     "name": "stdout",
     "output_type": "stream",
     "text": [
      "[[ 4.32187295 -4.09035606]\n",
      " [ 1.74904913 -5.0368827 ]\n",
      " [ 1.5475302  -4.98843735]\n",
      " ...\n",
      " [ 2.9651063  -3.85450807]\n",
      " [-6.56277194  1.12453008]\n",
      " [-4.74034583 10.61857845]]\n"
     ]
    }
   ],
   "source": [
    "print(X)"
   ]
  },
  {
   "cell_type": "code",
   "execution_count": 54,
   "id": "bca31058",
   "metadata": {},
   "outputs": [
    {
     "name": "stdout",
     "output_type": "stream",
     "text": [
      "[1 1 1 ... 1 0 2]\n"
     ]
    }
   ],
   "source": [
    "print(y)"
   ]
  },
  {
   "cell_type": "code",
   "execution_count": 55,
   "id": "43b1fcd8",
   "metadata": {},
   "outputs": [
    {
     "name": "stdout",
     "output_type": "stream",
     "text": [
      "(1500, 2)\n"
     ]
    }
   ],
   "source": [
    "print(np.shape(X))"
   ]
  },
  {
   "cell_type": "code",
   "execution_count": 56,
   "id": "d6e7cc50",
   "metadata": {},
   "outputs": [
    {
     "name": "stdout",
     "output_type": "stream",
     "text": [
      "[1 1 1 ... 1 0 2]\n"
     ]
    }
   ],
   "source": [
    "print(y)"
   ]
  },
  {
   "cell_type": "code",
   "execution_count": 57,
   "id": "175bec48",
   "metadata": {},
   "outputs": [],
   "source": [
    "centroids = (-6,2), (3,-4), (-5,10)"
   ]
  },
  {
   "cell_type": "code",
   "execution_count": 72,
   "id": "5110e4f4",
   "metadata": {},
   "outputs": [
    {
     "data": {
      "text/plain": [
       "<matplotlib.collections.PathCollection at 0x212f385bf70>"
      ]
     },
     "execution_count": 72,
     "metadata": {},
     "output_type": "execute_result"
    },
    {
     "data": {
      "image/png": "[encoded data removed]",
      "text/plain": [
       "<Figure size 432x288 with 1 Axes>"
      ]
     },
     "metadata": {
      "needs_background": "light"
     },
     "output_type": "display_data"
    }
   ],
   "source": [
    "plt.scatter(X[:,0],X[:,1],c=y)"
   ]
  },
  {
   "cell_type": "code",
   "execution_count": 17,
   "id": "987d5584",
   "metadata": {},
   "outputs": [],
   "source": [
    "plt.show()"
   ]
  },
  {
   "cell_type": "code",
   "execution_count": null,
   "id": "e9e2d8a4",
   "metadata": {},
   "outputs": [],
   "source": []
  },
  {
   "cell_type": "code",
   "execution_count": 76,
   "id": "640d69a4",
   "metadata": {},
   "outputs": [],
   "source": [
    "from scipy.spatial.distance import cdist"
   ]
  },
  {
   "cell_type": "code",
   "execution_count": 82,
   "id": "ea9419f5",
   "metadata": {},
   "outputs": [
    {
     "name": "stdout",
     "output_type": "stream",
     "text": [
      "[0 2 2 2 0]\n"
     ]
    }
   ],
   "source": [
    "print(y[104:109])"
   ]
  },
  {
   "cell_type": "code",
   "execution_count": 87,
   "id": "49deb140",
   "metadata": {},
   "outputs": [],
   "source": [
    "x_new = (X[104:110,0],y[104:110])"
   ]
  },
  {
   "cell_type": "code",
   "execution_count": 89,
   "id": "90b7ea01",
   "metadata": {},
   "outputs": [
    {
     "name": "stdout",
     "output_type": "stream",
     "text": [
      "(array([-6.36461921, -4.61224119, -5.50294322, -6.11695691, -6.92043361,\n",
      "        4.23766119]), array([0, 2, 2, 2, 0, 1]))\n"
     ]
    }
   ],
   "source": [
    "print(x_new)"
   ]
  },
  {
   "cell_type": "code",
   "execution_count": 88,
   "id": "c5703df1",
   "metadata": {},
   "outputs": [
    {
     "ename": "ValueError",
     "evalue": "XA and XB must have the same number of columns (i.e. feature dimension.)",
     "output_type": "error",
     "traceback": [
      "\u001b[1;31m---------------------------------------------------------------------------\u001b[0m",
      "\u001b[1;31mValueError\u001b[0m                                Traceback (most recent call last)",
      "\u001b[1;32mC:\\Users\\DSELVA~1\\AppData\\Local\\Temp/ipykernel_10524/2850449671.py\u001b[0m in \u001b[0;36m<module>\u001b[1;34m\u001b[0m\n\u001b[1;32m----> 1\u001b[1;33m \u001b[0mk\u001b[0m \u001b[1;33m=\u001b[0m \u001b[0mcdist\u001b[0m\u001b[1;33m(\u001b[0m\u001b[0mx_new\u001b[0m\u001b[1;33m,\u001b[0m \u001b[0mcentroids\u001b[0m\u001b[1;33m,\u001b[0m\u001b[1;34m\"euclidean\"\u001b[0m\u001b[1;33m)\u001b[0m\u001b[1;33m\u001b[0m\u001b[1;33m\u001b[0m\u001b[0m\n\u001b[0m",
      "\u001b[1;32mC:\\Anaconda3\\lib\\site-packages\\scipy\\spatial\\distance.py\u001b[0m in \u001b[0;36mcdist\u001b[1;34m(XA, XB, metric, out, **kwargs)\u001b[0m\n\u001b[0;32m   2933\u001b[0m         \u001b[1;32mraise\u001b[0m \u001b[0mValueError\u001b[0m\u001b[1;33m(\u001b[0m\u001b[1;34m'XB must be a 2-dimensional array.'\u001b[0m\u001b[1;33m)\u001b[0m\u001b[1;33m\u001b[0m\u001b[1;33m\u001b[0m\u001b[0m\n\u001b[0;32m   2934\u001b[0m     \u001b[1;32mif\u001b[0m \u001b[0ms\u001b[0m\u001b[1;33m[\u001b[0m\u001b[1;36m1\u001b[0m\u001b[1;33m]\u001b[0m \u001b[1;33m!=\u001b[0m \u001b[0msB\u001b[0m\u001b[1;33m[\u001b[0m\u001b[1;36m1\u001b[0m\u001b[1;33m]\u001b[0m\u001b[1;33m:\u001b[0m\u001b[1;33m\u001b[0m\u001b[1;33m\u001b[0m\u001b[0m\n\u001b[1;32m-> 2935\u001b[1;33m         raise ValueError('XA and XB must have the same number of columns '\n\u001b[0m\u001b[0;32m   2936\u001b[0m                          '(i.e. feature dimension.)')\n\u001b[0;32m   2937\u001b[0m \u001b[1;33m\u001b[0m\u001b[0m\n",
      "\u001b[1;31mValueError\u001b[0m: XA and XB must have the same number of columns (i.e. feature dimension.)"
     ]
    }
   ],
   "source": [
    "k = cdist(x_new, centroids,\"euclidean\")"
   ]
  },
  {
   "cell_type": "code",
   "execution_count": 79,
   "id": "3a2b5cc2",
   "metadata": {},
   "outputs": [
    {
     "name": "stdout",
     "output_type": "stream",
     "text": [
      "[[ 0.72326177 11.47091069  7.50055294]\n",
      " [ 6.96993998 14.91861424  1.23221389]\n",
      " [ 5.96329283 14.66029787  2.11803886]\n",
      " [ 8.47841884 17.10906648  1.21478643]\n",
      " [ 0.92044037 11.59192308  8.23070617]\n",
      " [11.67470055  1.29720387 16.45014597]]\n"
     ]
    }
   ],
   "source": [
    "print (k)"
   ]
  },
  {
   "cell_type": "code",
   "execution_count": null,
   "id": "ef992da7",
   "metadata": {},
   "outputs": [],
   "source": []
  }
 ],
 "metadata": {
  "kernelspec": {
   "display_name": "Python 3 (ipykernel)",
   "language": "python",
   "name": "python3"
  },
  "language_info": {
   "codemirror_mode": {
    "name": "ipython",
    "version": 3
   },
   "file_extension": ".py",
   "mimetype": "text/x-python",
   "name": "python",
   "nbconvert_exporter": "python",
   "pygments_lexer": "ipython3",
   "version": "3.9.12"
  }
 },
 "nbformat": 4,
 "nbformat_minor": 5
}
